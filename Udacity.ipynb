{
 "cells": [
  {
   "cell_type": "code",
   "execution_count": 1,
   "metadata": {},
   "outputs": [],
   "source": [
    "import numpy as np\n",
    "import matplotlib.pyplot as plt\n",
    "import statistics\n",
    "from scipy.stats import norm\n",
    "from sklearn.linear_model import LinearRegression\n",
    "from sklearn.model_selection import train_test_split\n",
    "from sklearn.metrics import r2_score, mean_squared_error\n",
    "import seaborn as sns\n",
    "from collections import defaultdict\n",
    "from sklearn.feature_selection import SelectKBest\n",
    "from sklearn.feature_selection import f_regression\n",
    "import math\n",
    "%matplotlib inline\n",
    "import pandas as pd\n",
    "pd.options.mode.chained_assignment = None  # default='warn'"
   ]
  },
  {
   "cell_type": "code",
   "execution_count": 2,
   "metadata": {},
   "outputs": [],
   "source": [
    "df_list = pd.read_csv('listings.csv')"
   ]
  },
  {
   "cell_type": "markdown",
   "metadata": {},
   "source": [
    "After importing necesessary libraries and the dataset, we'll start to the project with examining the dataset as first step."
   ]
  },
  {
   "cell_type": "code",
   "execution_count": 3,
   "metadata": {},
   "outputs": [
    {
     "name": "stdout",
     "output_type": "stream",
     "text": [
      "(3585, 95)\n"
     ]
    }
   ],
   "source": [
    "print(df_list.shape)"
   ]
  },
  {
   "cell_type": "code",
   "execution_count": 4,
   "metadata": {},
   "outputs": [
    {
     "data": {
      "text/plain": [
       "object     62\n",
       "float64    18\n",
       "int64      15\n",
       "dtype: int64"
      ]
     },
     "execution_count": 4,
     "metadata": {},
     "output_type": "execute_result"
    }
   ],
   "source": [
    "df_list.dtypes.value_counts()"
   ]
  },
  {
   "cell_type": "code",
   "execution_count": 5,
   "metadata": {},
   "outputs": [
    {
     "data": {
      "text/plain": [
       "neighbourhood_group_cleansed    float64\n",
       "latitude                        float64\n",
       "longitude                       float64\n",
       "bathrooms                       float64\n",
       "bedrooms                        float64\n",
       "beds                            float64\n",
       "square_feet                     float64\n",
       "has_availability                float64\n",
       "review_scores_rating            float64\n",
       "review_scores_accuracy          float64\n",
       "review_scores_cleanliness       float64\n",
       "review_scores_checkin           float64\n",
       "review_scores_communication     float64\n",
       "review_scores_location          float64\n",
       "review_scores_value             float64\n",
       "license                         float64\n",
       "jurisdiction_names              float64\n",
       "reviews_per_month               float64\n",
       "dtype: object"
      ]
     },
     "execution_count": 5,
     "metadata": {},
     "output_type": "execute_result"
    }
   ],
   "source": [
    "##The following code examines the name of the columns which are float64 data type\n",
    "df_list.dtypes[df_list.dtypes=='float64']"
   ]
  },
  {
   "cell_type": "code",
   "execution_count": 6,
   "metadata": {},
   "outputs": [
    {
     "data": {
      "text/plain": [
       "id                                int64\n",
       "scrape_id                         int64\n",
       "host_id                           int64\n",
       "host_listings_count               int64\n",
       "host_total_listings_count         int64\n",
       "accommodates                      int64\n",
       "guests_included                   int64\n",
       "minimum_nights                    int64\n",
       "maximum_nights                    int64\n",
       "availability_30                   int64\n",
       "availability_60                   int64\n",
       "availability_90                   int64\n",
       "availability_365                  int64\n",
       "number_of_reviews                 int64\n",
       "calculated_host_listings_count    int64\n",
       "dtype: object"
      ]
     },
     "execution_count": 6,
     "metadata": {},
     "output_type": "execute_result"
    }
   ],
   "source": [
    "#The following code examines the name of the columns which are int64 data type\n",
    "df_list.dtypes[df_list.dtypes=='int64']"
   ]
  },
  {
   "cell_type": "code",
   "execution_count": 7,
   "metadata": {},
   "outputs": [
    {
     "data": {
      "text/plain": [
       "listing_url                         object\n",
       "last_scraped                        object\n",
       "name                                object\n",
       "summary                             object\n",
       "space                               object\n",
       "description                         object\n",
       "experiences_offered                 object\n",
       "neighborhood_overview               object\n",
       "notes                               object\n",
       "transit                             object\n",
       "access                              object\n",
       "interaction                         object\n",
       "house_rules                         object\n",
       "thumbnail_url                       object\n",
       "medium_url                          object\n",
       "picture_url                         object\n",
       "xl_picture_url                      object\n",
       "host_url                            object\n",
       "host_name                           object\n",
       "host_since                          object\n",
       "host_location                       object\n",
       "host_about                          object\n",
       "host_response_time                  object\n",
       "host_response_rate                  object\n",
       "host_acceptance_rate                object\n",
       "host_is_superhost                   object\n",
       "host_thumbnail_url                  object\n",
       "host_picture_url                    object\n",
       "host_neighbourhood                  object\n",
       "host_verifications                  object\n",
       "host_has_profile_pic                object\n",
       "host_identity_verified              object\n",
       "street                              object\n",
       "neighbourhood                       object\n",
       "neighbourhood_cleansed              object\n",
       "city                                object\n",
       "state                               object\n",
       "zipcode                             object\n",
       "market                              object\n",
       "smart_location                      object\n",
       "country_code                        object\n",
       "country                             object\n",
       "is_location_exact                   object\n",
       "property_type                       object\n",
       "room_type                           object\n",
       "bed_type                            object\n",
       "amenities                           object\n",
       "price                               object\n",
       "weekly_price                        object\n",
       "monthly_price                       object\n",
       "security_deposit                    object\n",
       "cleaning_fee                        object\n",
       "extra_people                        object\n",
       "calendar_updated                    object\n",
       "calendar_last_scraped               object\n",
       "first_review                        object\n",
       "last_review                         object\n",
       "requires_license                    object\n",
       "instant_bookable                    object\n",
       "cancellation_policy                 object\n",
       "require_guest_profile_picture       object\n",
       "require_guest_phone_verification    object\n",
       "dtype: object"
      ]
     },
     "execution_count": 7,
     "metadata": {},
     "output_type": "execute_result"
    }
   ],
   "source": [
    "#The following code examines the name of the columns which are object data type\n",
    "pd.set_option('display.max_rows', 100)\n",
    "df_list.dtypes[df_list.dtypes=='object']"
   ]
  },
  {
   "cell_type": "code",
   "execution_count": 8,
   "metadata": {},
   "outputs": [
    {
     "data": {
      "text/plain": [
       "neighbourhood_group_cleansed        3585\n",
       "jurisdiction_names                  3585\n",
       "license                             3585\n",
       "has_availability                    3585\n",
       "square_feet                         3529\n",
       "monthly_price                       2697\n",
       "weekly_price                        2693\n",
       "security_deposit                    2243\n",
       "notes                               1975\n",
       "interaction                         1554\n",
       "access                              1489\n",
       "neighborhood_overview               1415\n",
       "host_about                          1309\n",
       "transit                             1290\n",
       "house_rules                         1192\n",
       "cleaning_fee                        1107\n",
       "space                               1057\n",
       "review_scores_accuracy               823\n",
       "review_scores_location               822\n",
       "review_scores_value                  821\n",
       "review_scores_checkin                820\n",
       "review_scores_cleanliness            818\n",
       "review_scores_communication          818\n",
       "review_scores_rating                 813\n",
       "reviews_per_month                    756\n",
       "first_review                         756\n",
       "last_review                          756\n",
       "thumbnail_url                        599\n",
       "medium_url                           599\n",
       "xl_picture_url                       599\n",
       "neighbourhood                        543\n",
       "host_response_time                   471\n",
       "host_acceptance_rate                 471\n",
       "host_response_rate                   471\n",
       "host_neighbourhood                   339\n",
       "summary                              143\n",
       "zipcode                               38\n",
       "market                                14\n",
       "bathrooms                             14\n",
       "host_location                         11\n",
       "bedrooms                              10\n",
       "beds                                   9\n",
       "property_type                          3\n",
       "city                                   2\n",
       "experiences_offered                    0\n",
       "host_is_superhost                      0\n",
       "host_thumbnail_url                     0\n",
       "host_picture_url                       0\n",
       "listing_url                            0\n",
       "host_name                              0\n",
       "scrape_id                              0\n",
       "host_since                             0\n",
       "description                            0\n",
       "host_url                               0\n",
       "host_id                                0\n",
       "last_scraped                           0\n",
       "picture_url                            0\n",
       "name                                   0\n",
       "host_total_listings_count              0\n",
       "host_listings_count                    0\n",
       "country                                0\n",
       "host_verifications                     0\n",
       "availability_365                       0\n",
       "minimum_nights                         0\n",
       "maximum_nights                         0\n",
       "calendar_updated                       0\n",
       "availability_30                        0\n",
       "availability_60                        0\n",
       "availability_90                        0\n",
       "calendar_last_scraped                  0\n",
       "host_has_profile_pic                   0\n",
       "number_of_reviews                      0\n",
       "requires_license                       0\n",
       "instant_bookable                       0\n",
       "cancellation_policy                    0\n",
       "require_guest_profile_picture          0\n",
       "require_guest_phone_verification       0\n",
       "extra_people                           0\n",
       "guests_included                        0\n",
       "price                                  0\n",
       "amenities                              0\n",
       "bed_type                               0\n",
       "accommodates                           0\n",
       "room_type                              0\n",
       "is_location_exact                      0\n",
       "longitude                              0\n",
       "latitude                               0\n",
       "calculated_host_listings_count         0\n",
       "country_code                           0\n",
       "smart_location                         0\n",
       "state                                  0\n",
       "neighbourhood_cleansed                 0\n",
       "street                                 0\n",
       "host_identity_verified                 0\n",
       "id                                     0\n",
       "dtype: int64"
      ]
     },
     "execution_count": 8,
     "metadata": {},
     "output_type": "execute_result"
    }
   ],
   "source": [
    "#The following code examines the number of missing values in each column in descending order\n",
    "df_list.isnull().sum().sort_values(ascending = False)"
   ]
  },
  {
   "cell_type": "code",
   "execution_count": 9,
   "metadata": {},
   "outputs": [
    {
     "data": {
      "text/plain": [
       "id             3585\n",
       "listing_url    3585\n",
       "picture_url    3585\n",
       "latitude       3585\n",
       "longitude      3585\n",
       "dtype: int64"
      ]
     },
     "execution_count": 9,
     "metadata": {},
     "output_type": "execute_result"
    }
   ],
   "source": [
    "#The following code examines the columns names the columns that are without any missing values and all values are unique\n",
    "df_list.nunique()[df_list.nunique()==len(df_list)]"
   ]
  },
  {
   "cell_type": "code",
   "execution_count": 10,
   "metadata": {
    "scrolled": false
   },
   "outputs": [
    {
     "data": {
      "text/plain": [
       "name                                3504\n",
       "description                         3423\n",
       "summary                             3113\n",
       "amenities                           3092\n",
       "thumbnail_url                       2986\n",
       "medium_url                          2986\n",
       "xl_picture_url                      2986\n",
       "space                               2268\n",
       "host_id                             2181\n",
       "host_url                            2181\n",
       "host_thumbnail_url                  2174\n",
       "host_picture_url                    2174\n",
       "house_rules                         1928\n",
       "transit                             1859\n",
       "access                              1762\n",
       "neighborhood_overview               1728\n",
       "interaction                         1617\n",
       "host_name                           1334\n",
       "host_since                          1281\n",
       "notes                               1269\n",
       "host_about                          1240\n",
       "street                              1239\n",
       "first_review                         975\n",
       "reviews_per_month                    644\n",
       "last_review                          404\n",
       "availability_365                     348\n",
       "price                                324\n",
       "monthly_price                        288\n",
       "weekly_price                         243\n",
       "number_of_reviews                    178\n",
       "host_location                        176\n",
       "availability_90                       91\n",
       "maximum_nights                        85\n",
       "host_verifications                    83\n",
       "cleaning_fee                          79\n",
       "host_acceptance_rate                  72\n",
       "availability_60                       61\n",
       "security_deposit                      54\n",
       "host_neighbourhood                    53\n",
       "host_response_rate                    52\n",
       "extra_people                          51\n",
       "review_scores_rating                  48\n",
       "zipcode                               43\n",
       "smart_location                        39\n",
       "calendar_updated                      38\n",
       "city                                  38\n",
       "square_feet                           37\n",
       "host_listings_count                   35\n",
       "host_total_listings_count             35\n",
       "availability_30                       31\n",
       "neighbourhood                         30\n",
       "minimum_nights                        29\n",
       "calculated_host_listings_count        25\n",
       "neighbourhood_cleansed                25\n",
       "accommodates                          14\n",
       "guests_included                       13\n",
       "property_type                         13\n",
       "bathrooms                             12\n",
       "beds                                  11\n",
       "review_scores_value                    9\n",
       "review_scores_location                 9\n",
       "review_scores_cleanliness              9\n",
       "review_scores_checkin                  8\n",
       "review_scores_accuracy                 8\n",
       "review_scores_communication            7\n",
       "bedrooms                               6\n",
       "bed_type                               5\n",
       "host_response_time                     4\n",
       "cancellation_policy                    4\n",
       "market                                 4\n",
       "room_type                              3\n",
       "host_is_superhost                      2\n",
       "host_has_profile_pic                   2\n",
       "host_identity_verified                 2\n",
       "is_location_exact                      2\n",
       "instant_bookable                       2\n",
       "require_guest_profile_picture          2\n",
       "require_guest_phone_verification       2\n",
       "experiences_offered                    1\n",
       "last_scraped                           1\n",
       "country                                1\n",
       "state                                  1\n",
       "country_code                           1\n",
       "calendar_last_scraped                  1\n",
       "requires_license                       1\n",
       "scrape_id                              1\n",
       "neighbourhood_group_cleansed           0\n",
       "has_availability                       0\n",
       "license                                0\n",
       "jurisdiction_names                     0\n",
       "dtype: int64"
      ]
     },
     "execution_count": 10,
     "metadata": {},
     "output_type": "execute_result"
    }
   ],
   "source": [
    "#The following code examines the columns names with unique values as well as missing values with descending order\n",
    "df_list.nunique()[df_list.nunique() != len(df_list)].sort_values(ascending=False)"
   ]
  },
  {
   "cell_type": "code",
   "execution_count": 11,
   "metadata": {},
   "outputs": [
    {
     "data": {
      "text/plain": [
       "'{TV,\"Wireless Internet\",Kitchen,\"Free Parking on Premises\",\"Pets live on this property\",Dog(s),Heating,\"Family/Kid Friendly\",Washer,Dryer,\"Smoke Detector\",\"Fire Extinguisher\",Essentials,Shampoo,\"Laptop Friendly Workspace\"}'"
      ]
     },
     "execution_count": 11,
     "metadata": {},
     "output_type": "execute_result"
    }
   ],
   "source": [
    "df_list['amenities'][0]"
   ]
  },
  {
   "cell_type": "markdown",
   "metadata": {},
   "source": [
    "Question 1\n",
    "\n",
    "One of the most vast detailed column within the dataset is 'amenities' column. Thus, we will focus on this column more than other columns at first. We will start to answer the question: \n",
    "What are the most common amenities within Boston Airbnb dataset? \n",
    "\n",
    "Let's start!"
   ]
  },
  {
   "cell_type": "code",
   "execution_count": 12,
   "metadata": {},
   "outputs": [],
   "source": [
    "#Firstly, create an empty list to fill with amenities available.\n",
    "list_amenities = []\n",
    "\n",
    "#Then, create a 'for' loop to append all amenity values from the dataset into the list.\n",
    "for i in range(len(df_list)):\n",
    "    list_amenities.append(df_list['amenities'][i])\n",
    "\n",
    "    \n",
    "#Due to the fact that each list within the dataset has a list of amenities, we need to retrieve unique amenities from the dataset\n",
    "#Therefore, we will use the \"set\" function to set the amenities unique and then convert the set into a list\n",
    "#to remain consistency of data type.\n",
    "list_amenities = list((s.strip('\\'\\{\\}') for s in list_amenities))\n",
    "list_amenities_string = \",\".join(list_amenities)\n",
    "list_amenities = list(set(list_amenities_string.split(\",\")))\n",
    "\n",
    "#Now we need to remove each empty string within the list of amenities \n",
    "without_empty_amenities = []\n",
    "for string in list_amenities:\n",
    "    if (string != \"\"):\n",
    "        without_empty_amenities.append(string)\n",
    "list_amenities = without_empty_amenities"
   ]
  },
  {
   "cell_type": "code",
   "execution_count": 13,
   "metadata": {},
   "outputs": [],
   "source": [
    "#The code snippet below is taken from one of the Udacity lecture notes. \n",
    "#This function is used to count the number of listings that contains each amenity in the amenities list.\n",
    "def total_count(df, col1, col2, look_for):\n",
    "    '''\n",
    "    INPUT:\n",
    "    df - the pandas dataframe you want to search\n",
    "    col1 - the column name you want to look through\n",
    "    col2 - the column you want to count values from\n",
    "    look_for - a list of strings you want to search for in each row of df[col]\n",
    "\n",
    "    OUTPUT:\n",
    "    new_df - a dataframe of each look_for with the count of how often it shows up\n",
    "    '''\n",
    "    new_df = defaultdict(int)\n",
    "    #loop through list of amenities\n",
    "    for val in look_for:\n",
    "        #loop through rows\n",
    "        for idx in range(df.shape[0]):\n",
    "            #if the amenity is in the row add 1\n",
    "            if val in df[col1][idx]:\n",
    "                new_df[val] += int(df[col2][idx])\n",
    "    new_df = pd.DataFrame(pd.Series(new_df)).reset_index()\n",
    "    new_df.columns = [col1, col2]\n",
    "    new_df.sort_values('count', ascending=False, inplace=True)\n",
    "    return new_df"
   ]
  },
  {
   "cell_type": "code",
   "execution_count": 14,
   "metadata": {},
   "outputs": [
    {
     "data": {
      "image/png": "[encoded data removed]",
      "text/plain": [
       "<Figure size 864x576 with 1 Axes>"
      ]
     },
     "metadata": {
      "needs_background": "light"
     },
     "output_type": "display_data"
    }
   ],
   "source": [
    "#We will create a new dataframe which is called named 'amenities_common', which has lists of amenities as one column and the count of these amenities lists\n",
    "#in our main (df_list)\n",
    "amenities_common = df_list['amenities'].value_counts().reset_index()\n",
    "amenities_common.rename(columns={'index': 'amenities', 'amenities': 'count'}, inplace=True)\n",
    "\n",
    "#Counting the number of listings that contains each amenity in the amenities list via total_count function.\n",
    "amenities_common_df = total_count(amenities_common, 'amenities', 'count', list_amenities)\n",
    "amenities_common_df.set_index('amenities', inplace=True)\n",
    "\n",
    "#Visualizing the percentage of each amenity with ascending sort as a bar chart \n",
    "(amenities_common_df/len(df_list)).plot(kind='bar', figsize=(12,8), legend=None);\n",
    "plt.title('Top 20 Most Common Amenities in The Dataset');\n",
    "plt.ylabel('Percentage of listings that contains the amenity')\n",
    "\n",
    "plt.show()"
   ]
  },
  {
   "cell_type": "code",
   "execution_count": 15,
   "metadata": {},
   "outputs": [
    {
     "data": {
      "text/html": [
       "<div>\n",
       "<style scoped>\n",
       "    .dataframe tbody tr th:only-of-type {\n",
       "        vertical-align: middle;\n",
       "    }\n",
       "\n",
       "    .dataframe tbody tr th {\n",
       "        vertical-align: top;\n",
       "    }\n",
       "\n",
       "    .dataframe thead th {\n",
       "        text-align: right;\n",
       "    }\n",
       "</style>\n",
       "<table border=\"1\" class=\"dataframe\">\n",
       "  <thead>\n",
       "    <tr style=\"text-align: right;\">\n",
       "      <th></th>\n",
       "      <th>count</th>\n",
       "    </tr>\n",
       "    <tr>\n",
       "      <th>amenities</th>\n",
       "      <th></th>\n",
       "    </tr>\n",
       "  </thead>\n",
       "  <tbody>\n",
       "    <tr>\n",
       "      <th>Internet</th>\n",
       "      <td>3459</td>\n",
       "    </tr>\n",
       "    <tr>\n",
       "      <th>\"Wireless Internet\"</th>\n",
       "      <td>3421</td>\n",
       "    </tr>\n",
       "    <tr>\n",
       "      <th>Heating</th>\n",
       "      <td>3384</td>\n",
       "    </tr>\n",
       "    <tr>\n",
       "      <th>Kitchen</th>\n",
       "      <td>3284</td>\n",
       "    </tr>\n",
       "    <tr>\n",
       "      <th>Essentials</th>\n",
       "      <td>2994</td>\n",
       "    </tr>\n",
       "  </tbody>\n",
       "</table>\n",
       "</div>"
      ],
      "text/plain": [
       "                     count\n",
       "amenities                 \n",
       "Internet              3459\n",
       "\"Wireless Internet\"   3421\n",
       "Heating               3384\n",
       "Kitchen               3284\n",
       "Essentials            2994"
      ]
     },
     "execution_count": 15,
     "metadata": {},
     "output_type": "execute_result"
    }
   ],
   "source": [
    "amenities_common_df.head()"
   ]
  },
  {
   "cell_type": "markdown",
   "metadata": {},
   "source": [
    "Question 2\n",
    "\n",
    "In this part, we will try to find answers for this questions:\n",
    "What attracts people most to rent a property? Price? Neighborhood? or Offered amenities?\n"
   ]
  },
  {
   "cell_type": "code",
   "execution_count": 16,
   "metadata": {},
   "outputs": [
    {
     "data": {
      "text/plain": [
       "0        0\n",
       "1       84\n",
       "2       61\n",
       "3       26\n",
       "4       59\n",
       "        ..\n",
       "3580    81\n",
       "3581    89\n",
       "3582    40\n",
       "3583     5\n",
       "3584    75\n",
       "Name: availability_90, Length: 3585, dtype: int64"
      ]
     },
     "execution_count": 16,
     "metadata": {},
     "output_type": "execute_result"
    }
   ],
   "source": [
    "#We will focus on 90 days period for availability and booking ratio\n",
    "df_list['availability_90']"
   ]
  },
  {
   "cell_type": "code",
   "execution_count": 17,
   "metadata": {},
   "outputs": [
    {
     "data": {
      "text/plain": [
       "0"
      ]
     },
     "execution_count": 17,
     "metadata": {},
     "output_type": "execute_result"
    }
   ],
   "source": [
    "#Checking missing values within the 'availability_90' column\n",
    "df_list['availability_90'].isnull().sum()"
   ]
  },
  {
   "cell_type": "code",
   "execution_count": 18,
   "metadata": {},
   "outputs": [],
   "source": [
    "#Yet it doesn't have any missing values, we can define our booking ratio column for 90 days\n",
    "df_list['booking_ratio_90'] = 1 - (df_list['availability_90']/90)"
   ]
  },
  {
   "cell_type": "code",
   "execution_count": 19,
   "metadata": {},
   "outputs": [
    {
     "data": {
      "text/plain": [
       "0       1.000000\n",
       "1       0.066667\n",
       "2       0.322222\n",
       "3       0.711111\n",
       "4       0.344444\n",
       "          ...   \n",
       "3580    0.100000\n",
       "3581    0.011111\n",
       "3582    0.555556\n",
       "3583    0.944444\n",
       "3584    0.166667\n",
       "Name: booking_ratio_90, Length: 3585, dtype: float64"
      ]
     },
     "execution_count": 19,
     "metadata": {},
     "output_type": "execute_result"
    }
   ],
   "source": [
    "df_list['booking_ratio_90']"
   ]
  },
  {
   "cell_type": "code",
   "execution_count": 20,
   "metadata": {},
   "outputs": [
    {
     "data": {
      "text/plain": [
       "price      neighbourhood_cleansed\n",
       "$27.00     Allston                   1.0\n",
       "$298.00    Fenway                    1.0\n",
       "$30.00     Mission Hill              1.0\n",
       "           Fenway                    1.0\n",
       "           East Boston               1.0\n",
       "                                    ... \n",
       "$145.00    Brighton                  0.0\n",
       "$119.00    West End                  0.0\n",
       "$113.00    Allston                   0.0\n",
       "$110.00    Downtown                  0.0\n",
       "$1,000.00  Charlestown               0.0\n",
       "Name: booking_ratio_90, Length: 1542, dtype: float64"
      ]
     },
     "execution_count": 20,
     "metadata": {},
     "output_type": "execute_result"
    }
   ],
   "source": [
    "#Now, we can examine booking ratio for next 90 days for different pricing and neighbourhoods\n",
    "df_list.groupby(['price','neighbourhood_cleansed'])['booking_ratio_90'].mean().sort_values(ascending=False)"
   ]
  },
  {
   "cell_type": "code",
   "execution_count": 21,
   "metadata": {},
   "outputs": [
    {
     "data": {
      "image/png": "[encoded data removed]",
      "text/plain": [
       "<Figure size 1296x576 with 1 Axes>"
      ]
     },
     "metadata": {
      "needs_background": "light"
     },
     "output_type": "display_data"
    }
   ],
   "source": [
    "#Visualizing the booking ratio difference for spectrum of prices for next 90 days as a bar chart\n",
    "(df_list.groupby(['price'])['booking_ratio_90'].mean().sort_values(ascending=False))[:50].plot(kind='bar',\n",
    "    figsize=(18,8))\n",
    "plt.title('Booking Ratio for next 90 days based on pricing');\n",
    "plt.show()"
   ]
  },
  {
   "cell_type": "markdown",
   "metadata": {},
   "source": [
    "Conclusion: There is no significant correlation between pricing and booking ratio"
   ]
  },
  {
   "cell_type": "code",
   "execution_count": 22,
   "metadata": {},
   "outputs": [
    {
     "data": {
      "text/plain": [
       "0"
      ]
     },
     "execution_count": 22,
     "metadata": {},
     "output_type": "execute_result"
    }
   ],
   "source": [
    "#Checking missing values withing the 'neighbourhood_cleansed' column \n",
    " \n",
    "df_list['neighbourhood_cleansed'].isnull().sum()"
   ]
  },
  {
   "cell_type": "code",
   "execution_count": 23,
   "metadata": {},
   "outputs": [
    {
     "data": {
      "text/plain": [
       "Jamaica Plain              343\n",
       "South End                  326\n",
       "Back Bay                   302\n",
       "Fenway                     290\n",
       "Dorchester                 269\n",
       "Allston                    260\n",
       "Beacon Hill                194\n",
       "Brighton                   185\n",
       "South Boston               174\n",
       "Downtown                   172\n",
       "East Boston                150\n",
       "Roxbury                    144\n",
       "North End                  143\n",
       "Mission Hill               124\n",
       "Charlestown                111\n",
       "South Boston Waterfront     83\n",
       "Chinatown                   71\n",
       "Roslindale                  56\n",
       "West End                    49\n",
       "West Roxbury                46\n",
       "Hyde Park                   31\n",
       "Mattapan                    24\n",
       "Bay Village                 24\n",
       "Longwood Medical Area        9\n",
       "Leather District             5\n",
       "Name: neighbourhood_cleansed, dtype: int64"
      ]
     },
     "execution_count": 23,
     "metadata": {},
     "output_type": "execute_result"
    }
   ],
   "source": [
    "#The number of each unique values in the 'neighbourhood_cleansed' column.\n",
    "df_list['neighbourhood_cleansed'].value_counts().sort_values(ascending=False)"
   ]
  },
  {
   "cell_type": "code",
   "execution_count": 24,
   "metadata": {},
   "outputs": [
    {
     "data": {
      "text/plain": [
       "neighbourhood_cleansed\n",
       "North End                  0.711033\n",
       "Beacon Hill                0.692612\n",
       "Allston                    0.689829\n",
       "Mission Hill               0.664516\n",
       "South End                  0.651534\n",
       "Jamaica Plain              0.631163\n",
       "Leather District           0.611111\n",
       "Brighton                   0.609610\n",
       "Hyde Park                  0.579928\n",
       "South Boston               0.573627\n",
       "Downtown                   0.553811\n",
       "Charlestown                0.553253\n",
       "Back Bay                   0.538116\n",
       "Roxbury                    0.537963\n",
       "Longwood Medical Area      0.535802\n",
       "Roslindale                 0.515278\n",
       "Dorchester                 0.500991\n",
       "East Boston                0.493704\n",
       "Fenway                     0.486705\n",
       "South Boston Waterfront    0.452878\n",
       "West Roxbury               0.445169\n",
       "Bay Village                0.385648\n",
       "Mattapan                   0.373611\n",
       "Chinatown                  0.286072\n",
       "West End                   0.242857\n",
       "Name: booking_ratio_90, dtype: float64"
      ]
     },
     "execution_count": 24,
     "metadata": {},
     "output_type": "execute_result"
    }
   ],
   "source": [
    "#Listing the booking ratios of different neighbourhoods for next 90 days\n",
    "df_list.groupby(['neighbourhood_cleansed'])['booking_ratio_90'].mean().sort_values(ascending=False)"
   ]
  },
  {
   "cell_type": "code",
   "execution_count": 25,
   "metadata": {},
   "outputs": [
    {
     "data": {
      "image/png": "[encoded data removed]",
      "text/plain": [
       "<Figure size 864x576 with 1 Axes>"
      ]
     },
     "metadata": {
      "needs_background": "light"
     },
     "output_type": "display_data"
    }
   ],
   "source": [
    "#Visualizing the booking ratio difference for spectrum of neighbourhoods for next 90 days as a bar chart\n",
    "(df_list.groupby(['neighbourhood_cleansed'])['booking_ratio_90'].mean().sort_values(ascending=False)).plot(kind='bar',\n",
    "    figsize=(12,8))\n",
    "plt.title('Booking Ratio for next 90 dyas on neighbourhood');\n",
    "plt.show()"
   ]
  },
  {
   "cell_type": "markdown",
   "metadata": {},
   "source": [
    "Conclusion: We can observe that some neighbourhood has higher booking ration and consecutively more demand than others."
   ]
  },
  {
   "cell_type": "code",
   "execution_count": 26,
   "metadata": {},
   "outputs": [
    {
     "data": {
      "text/plain": [
       "100.0    628\n",
       "93.0     205\n",
       "96.0     197\n",
       "95.0     171\n",
       "97.0     168\n",
       "90.0     163\n",
       "80.0     160\n",
       "98.0     153\n",
       "94.0     109\n",
       "92.0     105\n",
       "91.0      88\n",
       "87.0      87\n",
       "88.0      69\n",
       "99.0      65\n",
       "89.0      56\n",
       "86.0      47\n",
       "85.0      39\n",
       "84.0      34\n",
       "60.0      33\n",
       "83.0      30\n",
       "70.0      19\n",
       "75.0      16\n",
       "82.0      16\n",
       "73.0      14\n",
       "78.0      12\n",
       "40.0      11\n",
       "79.0      10\n",
       "77.0       9\n",
       "76.0       7\n",
       "81.0       7\n",
       "20.0       6\n",
       "74.0       5\n",
       "64.0       5\n",
       "67.0       4\n",
       "71.0       4\n",
       "65.0       3\n",
       "50.0       3\n",
       "68.0       2\n",
       "47.0       2\n",
       "66.0       2\n",
       "58.0       1\n",
       "55.0       1\n",
       "69.0       1\n",
       "62.0       1\n",
       "53.0       1\n",
       "72.0       1\n",
       "48.0       1\n",
       "46.0       1\n",
       "Name: review_scores_rating, dtype: int64"
      ]
     },
     "execution_count": 26,
     "metadata": {},
     "output_type": "execute_result"
    }
   ],
   "source": [
    "#Below code shows the unique review scores rating of rentals and count of each one\n",
    "df_list['review_scores_rating'].value_counts().sort_values(ascending=False)"
   ]
  },
  {
   "cell_type": "code",
   "execution_count": 27,
   "metadata": {},
   "outputs": [
    {
     "data": {
      "text/plain": [
       "0"
      ]
     },
     "execution_count": 27,
     "metadata": {},
     "output_type": "execute_result"
    }
   ],
   "source": [
    "#Checking missing values for the 'amenities' column\n",
    "df_list['amenities'].isnull().sum()"
   ]
  },
  {
   "cell_type": "code",
   "execution_count": 28,
   "metadata": {},
   "outputs": [],
   "source": [
    "#Creating new columns for each of the amenities and fill them all with zeros\n",
    "for i in range(len(list_amenities)):\n",
    "    df_list[list_amenities[i]] = 0"
   ]
  },
  {
   "cell_type": "code",
   "execution_count": 29,
   "metadata": {},
   "outputs": [],
   "source": [
    "#Now filling the new amenities columns \n",
    "#Firstly, checking if the listing has that amenity.\n",
    "#If the listing has that amenity, I fill it with '1'; and if not, fill it with '0'.\n",
    "for i in range(len(list_amenities)):\n",
    "    for t in range(len(df_list)):\n",
    "        if list_amenities[i] in df_list['amenities'][t]:\n",
    "            df_list.loc[t , list_amenities[i]] = 1\n",
    "        else:\n",
    "            df_list.loc[t , list_amenities[i]] = 0"
   ]
  },
  {
   "cell_type": "code",
   "execution_count": 30,
   "metadata": {},
   "outputs": [],
   "source": [
    "#Now, creating a dataframe that will contain information about booking ratio of listings that contain that specific amenity.\n",
    "\n",
    "a_impact = pd.DataFrame(index=range(0,len(list_amenities)), columns = [\"Amenity Name\", \"Booking ratio with amenity\", \"Booking ratio without amenity\", \"Booking Difference\"])\n",
    "\n",
    "\n",
    "#In the below for loop, I write the name of the amenity, calculate the booking ratio of listings that contain that specific amenitiy\n",
    "#and calculate the booking ratio of listings that do not contain that specific amenity\n",
    "#and calculate the difference between booking ratios for that specific amenity. \n",
    "for i in range(len(list_amenities)):\n",
    "    a_impact['Amenity Name'][i] = list_amenities[i]\n",
    "    a_impact['Booking ratio with amenity'][i] = df_list.groupby([list_amenities[i]])['booking_ratio_90'].mean()[1]\n",
    "    a_impact['Booking ratio without amenity'][i] = df_list.groupby([list_amenities[i]])['booking_ratio_90'].mean()[0]\n",
    "    a_impact['Booking Difference'][i] = a_impact['Booking ratio with amenity'][i] - a_impact['Booking ratio without amenity'][i]\n",
    "\n",
    "a_impact.set_index('Amenity Name', inplace=True)"
   ]
  },
  {
   "cell_type": "code",
   "execution_count": 31,
   "metadata": {},
   "outputs": [
    {
     "data": {
      "text/html": [
       "<div>\n",
       "<style scoped>\n",
       "    .dataframe tbody tr th:only-of-type {\n",
       "        vertical-align: middle;\n",
       "    }\n",
       "\n",
       "    .dataframe tbody tr th {\n",
       "        vertical-align: top;\n",
       "    }\n",
       "\n",
       "    .dataframe thead th {\n",
       "        text-align: right;\n",
       "    }\n",
       "</style>\n",
       "<table border=\"1\" class=\"dataframe\">\n",
       "  <thead>\n",
       "    <tr style=\"text-align: right;\">\n",
       "      <th></th>\n",
       "      <th>Booking ratio with amenity</th>\n",
       "      <th>Booking ratio without amenity</th>\n",
       "      <th>Booking Difference</th>\n",
       "    </tr>\n",
       "    <tr>\n",
       "      <th>Amenity Name</th>\n",
       "      <th></th>\n",
       "      <th></th>\n",
       "      <th></th>\n",
       "    </tr>\n",
       "  </thead>\n",
       "  <tbody>\n",
       "    <tr>\n",
       "      <th>\"Other pet(s)\"</th>\n",
       "      <td>0.7375</td>\n",
       "      <td>0.570832</td>\n",
       "      <td>0.166668</td>\n",
       "    </tr>\n",
       "    <tr>\n",
       "      <th>\"Smoke Detector\"</th>\n",
       "      <td>0.59571</td>\n",
       "      <td>0.467343</td>\n",
       "      <td>0.128367</td>\n",
       "    </tr>\n",
       "    <tr>\n",
       "      <th>\"Buzzer/Wireless Intercom\"</th>\n",
       "      <td>0.639041</td>\n",
       "      <td>0.550963</td>\n",
       "      <td>0.0880782</td>\n",
       "    </tr>\n",
       "    <tr>\n",
       "      <th>\"Hot Tub\"</th>\n",
       "      <td>0.625416</td>\n",
       "      <td>0.568945</td>\n",
       "      <td>0.0564704</td>\n",
       "    </tr>\n",
       "    <tr>\n",
       "      <th>\"Wheelchair Accessible\"</th>\n",
       "      <td>0.615165</td>\n",
       "      <td>0.569699</td>\n",
       "      <td>0.0454661</td>\n",
       "    </tr>\n",
       "    <tr>\n",
       "      <th>\"Fire Extinguisher\"</th>\n",
       "      <td>0.596411</td>\n",
       "      <td>0.551961</td>\n",
       "      <td>0.0444501</td>\n",
       "    </tr>\n",
       "    <tr>\n",
       "      <th>Kitchen</th>\n",
       "      <td>0.575277</td>\n",
       "      <td>0.531192</td>\n",
       "      <td>0.0440851</td>\n",
       "    </tr>\n",
       "    <tr>\n",
       "      <th>\"Lock on Bedroom Door\"</th>\n",
       "      <td>0.607431</td>\n",
       "      <td>0.566113</td>\n",
       "      <td>0.0413178</td>\n",
       "    </tr>\n",
       "    <tr>\n",
       "      <th>\"Smoking Allowed\"</th>\n",
       "      <td>0.607836</td>\n",
       "      <td>0.570589</td>\n",
       "      <td>0.0372473</td>\n",
       "    </tr>\n",
       "    <tr>\n",
       "      <th>\"Carbon Monoxide Detector\"</th>\n",
       "      <td>0.581108</td>\n",
       "      <td>0.55121</td>\n",
       "      <td>0.0298981</td>\n",
       "    </tr>\n",
       "    <tr>\n",
       "      <th>\"translation missing: en.hosting_amenity_49\"</th>\n",
       "      <td>0.595771</td>\n",
       "      <td>0.568156</td>\n",
       "      <td>0.0276148</td>\n",
       "    </tr>\n",
       "    <tr>\n",
       "      <th>\"Suitable for Events\"</th>\n",
       "      <td>0.592351</td>\n",
       "      <td>0.570744</td>\n",
       "      <td>0.0216068</td>\n",
       "    </tr>\n",
       "    <tr>\n",
       "      <th>\"Wireless Internet\"</th>\n",
       "      <td>0.572493</td>\n",
       "      <td>0.552439</td>\n",
       "      <td>0.0200544</td>\n",
       "    </tr>\n",
       "    <tr>\n",
       "      <th>Essentials</th>\n",
       "      <td>0.573365</td>\n",
       "      <td>0.562512</td>\n",
       "      <td>0.0108535</td>\n",
       "    </tr>\n",
       "    <tr>\n",
       "      <th>\"First Aid Kit\"</th>\n",
       "      <td>0.578593</td>\n",
       "      <td>0.568618</td>\n",
       "      <td>0.0099747</td>\n",
       "    </tr>\n",
       "  </tbody>\n",
       "</table>\n",
       "</div>"
      ],
      "text/plain": [
       "                                             Booking ratio with amenity  \\\n",
       "Amenity Name                                                              \n",
       "\"Other pet(s)\"                                                   0.7375   \n",
       "\"Smoke Detector\"                                                0.59571   \n",
       "\"Buzzer/Wireless Intercom\"                                     0.639041   \n",
       "\"Hot Tub\"                                                      0.625416   \n",
       "\"Wheelchair Accessible\"                                        0.615165   \n",
       "\"Fire Extinguisher\"                                            0.596411   \n",
       "Kitchen                                                        0.575277   \n",
       "\"Lock on Bedroom Door\"                                         0.607431   \n",
       "\"Smoking Allowed\"                                              0.607836   \n",
       "\"Carbon Monoxide Detector\"                                     0.581108   \n",
       "\"translation missing: en.hosting_amenity_49\"                   0.595771   \n",
       "\"Suitable for Events\"                                          0.592351   \n",
       "\"Wireless Internet\"                                            0.572493   \n",
       "Essentials                                                     0.573365   \n",
       "\"First Aid Kit\"                                                0.578593   \n",
       "\n",
       "                                             Booking ratio without amenity  \\\n",
       "Amenity Name                                                                 \n",
       "\"Other pet(s)\"                                                    0.570832   \n",
       "\"Smoke Detector\"                                                  0.467343   \n",
       "\"Buzzer/Wireless Intercom\"                                        0.550963   \n",
       "\"Hot Tub\"                                                         0.568945   \n",
       "\"Wheelchair Accessible\"                                           0.569699   \n",
       "\"Fire Extinguisher\"                                               0.551961   \n",
       "Kitchen                                                           0.531192   \n",
       "\"Lock on Bedroom Door\"                                            0.566113   \n",
       "\"Smoking Allowed\"                                                 0.570589   \n",
       "\"Carbon Monoxide Detector\"                                         0.55121   \n",
       "\"translation missing: en.hosting_amenity_49\"                      0.568156   \n",
       "\"Suitable for Events\"                                             0.570744   \n",
       "\"Wireless Internet\"                                               0.552439   \n",
       "Essentials                                                        0.562512   \n",
       "\"First Aid Kit\"                                                   0.568618   \n",
       "\n",
       "                                             Booking Difference  \n",
       "Amenity Name                                                     \n",
       "\"Other pet(s)\"                                         0.166668  \n",
       "\"Smoke Detector\"                                       0.128367  \n",
       "\"Buzzer/Wireless Intercom\"                            0.0880782  \n",
       "\"Hot Tub\"                                             0.0564704  \n",
       "\"Wheelchair Accessible\"                               0.0454661  \n",
       "\"Fire Extinguisher\"                                   0.0444501  \n",
       "Kitchen                                               0.0440851  \n",
       "\"Lock on Bedroom Door\"                                0.0413178  \n",
       "\"Smoking Allowed\"                                     0.0372473  \n",
       "\"Carbon Monoxide Detector\"                            0.0298981  \n",
       "\"translation missing: en.hosting_amenity_49\"          0.0276148  \n",
       "\"Suitable for Events\"                                 0.0216068  \n",
       "\"Wireless Internet\"                                   0.0200544  \n",
       "Essentials                                            0.0108535  \n",
       "\"First Aid Kit\"                                       0.0099747  "
      ]
     },
     "execution_count": 31,
     "metadata": {},
     "output_type": "execute_result"
    }
   ],
   "source": [
    "#Listing the most 15 booking difference to identify which amenities are mostly prefered by guests.\n",
    "a_impact.sort_values(by='Booking Difference', ascending = False)[:15]"
   ]
  },
  {
   "cell_type": "code",
   "execution_count": 32,
   "metadata": {},
   "outputs": [
    {
     "data": {
      "image/png": "[encoded data removed]",
      "text/plain": [
       "<Figure size 864x576 with 1 Axes>"
      ]
     },
     "metadata": {
      "needs_background": "light"
     },
     "output_type": "display_data"
    }
   ],
   "source": [
    "#Visualizing most preferred 15 amenities by booking difference.\n",
    "a_impact['Booking Difference'].sort_values(ascending = False)[:15].plot(kind='bar', figsize=(12,8), legend=None)\n",
    "plt.title('Most in-Demand Amenities');\n",
    "plt.ylabel('Booking ratio difference for next 90 days')\n",
    "plt.show()"
   ]
  },
  {
   "cell_type": "code",
   "execution_count": 33,
   "metadata": {},
   "outputs": [
    {
     "data": {
      "image/png": "[encoded data removed]",
      "text/plain": [
       "<Figure size 864x576 with 1 Axes>"
      ]
     },
     "metadata": {
      "needs_background": "light"
     },
     "output_type": "display_data"
    }
   ],
   "source": [
    "#Visualizing the least preferred 15 amenities by booking difference.\n",
    "a_impact['Booking Difference'].sort_values(ascending = True)[:15].plot(kind='bar', figsize=(12,8), legend=None)\n",
    "plt.title('Least in-Demand Amenities');\n",
    "plt.ylabel('Booking ratio difference for upcoming 90 days')\n",
    "plt.show()"
   ]
  },
  {
   "cell_type": "markdown",
   "metadata": {},
   "source": [
    "Question 3\n",
    "\n",
    "As a last part of this project, we will train a machine learning model in order to forecast pricing of the listings. The last question to answer is:\n",
    "\n",
    "What are the most effectual traits to forecast pricing of a listing? "
   ]
  },
  {
   "cell_type": "markdown",
   "metadata": {},
   "source": [
    "\n",
    "Firstly, we should identify the number of missing values in the features that are relavant to price."
   ]
  },
  {
   "cell_type": "code",
   "execution_count": 34,
   "metadata": {},
   "outputs": [
    {
     "name": "stdout",
     "output_type": "stream",
     "text": [
      "0\n",
      "2693\n",
      "2697\n",
      "2243\n",
      "1107\n"
     ]
    }
   ],
   "source": [
    "print(df_list['price'].isnull().sum())\n",
    "print(df_list['weekly_price'].isnull().sum())\n",
    "print(df_list['monthly_price'].isnull().sum())\n",
    "print(df_list['security_deposit'].isnull().sum())\n",
    "print(df_list['cleaning_fee'].isnull().sum())"
   ]
  },
  {
   "cell_type": "code",
   "execution_count": 35,
   "metadata": {},
   "outputs": [],
   "source": [
    "#Listing of features that are expected to be essential for forecasting the pricing of listings\n",
    "#Creating a new dataframe for listings\n",
    "\n",
    "#Here is the columns for amenities categorical value\n",
    "\n",
    "selected_features = ['bathrooms', 'bedrooms', 'beds', 'latitude', 'longitude', 'reviews_per_month',\n",
    "        'booking_ratio_90', 'accommodates', 'guests_included', '\"24-Hour Check-in\"', '\"Suitable for Events\"',\n",
    "       '\"Pets live on this property\"', '\"Smoking Allowed\"',\n",
    "       '\"Other pet(s)\"', 'Essentials', '\"Wireless Internet\"',\n",
    "       '\"Buzzer/Wireless Intercom\"', 'TV', 'Gym', 'Washer', 'Doorman', 'Dryer',\n",
    "       '\"Air Conditioning\"', '\"Pets Allowed\"', 'Dog(s)',\n",
    "       '\"Hair Dryer\"', '\"Fire Extinguisher\"', 'Breakfast', '\"Washer / Dryer\"',\n",
    "       '\"Laptop Friendly Workspace\"', '\"Free Parking on Premises\"',\n",
    "       '\"Lock on Bedroom Door\"', 'Hangers', '\"Family/Kid Friendly\"',\n",
    "       '\"Carbon Monoxide Detector\"', '\"Safety Card\"', 'Kitchen',\n",
    "       '\"Elevator in Building\"', 'Internet', 'Shampoo', '\"Smoke Detector\"',\n",
    "       '\"Paid Parking Off Premises\"', '\"First Aid Kit\"',\n",
    "       '\"Indoor Fireplace\"', '\"Cable TV\"', 'Heating', 'neighbourhood_cleansed',\n",
    "        'property_type','room_type','bed_type','price','security_deposit',\n",
    "        'cleaning_fee', 'extra_people', 'instant_bookable', 'cancellation_policy']\n",
    "\n",
    "df_list_ml = df_list[selected_features]"
   ]
  },
  {
   "cell_type": "code",
   "execution_count": 36,
   "metadata": {},
   "outputs": [
    {
     "data": {
      "text/plain": [
       "bathrooms              14\n",
       "bedrooms               10\n",
       "beds                    9\n",
       "reviews_per_month     756\n",
       "property_type           3\n",
       "security_deposit     2243\n",
       "cleaning_fee         1107\n",
       "dtype: int64"
      ]
     },
     "execution_count": 36,
     "metadata": {},
     "output_type": "execute_result"
    }
   ],
   "source": [
    "#Checking missing values for each columns\n",
    "\n",
    "df_list_ml.isnull().sum()[df_list_ml.isnull().sum()>0]"
   ]
  },
  {
   "cell_type": "code",
   "execution_count": 37,
   "metadata": {},
   "outputs": [],
   "source": [
    "#Replacing missing values of these features with the mean values of each feature in the dataset \n",
    "#Because these four columns below are consisted of numeric data.\n",
    "\n",
    "df_list_ml['bathrooms'].fillna(df_list_ml['bathrooms'].mean(), inplace=True)\n",
    "df_list_ml['bedrooms'].fillna(df_list_ml['bedrooms'].mean(), inplace=True)\n",
    "df_list_ml['beds'].fillna(df_list_ml['beds'].mean(), inplace=True)\n",
    "df_list_ml['reviews_per_month'].fillna(df_list_ml['reviews_per_month'].mean(), inplace=True)"
   ]
  },
  {
   "cell_type": "code",
   "execution_count": 38,
   "metadata": {},
   "outputs": [],
   "source": [
    "#Replacing missing values of property_type with mode value of the feature in the dataset.\n",
    "#Because this column below is consisted of string data.\n",
    "df_list_ml['property_type'].fillna(df_list_ml['property_type'].mode()[0], inplace=True)"
   ]
  },
  {
   "cell_type": "code",
   "execution_count": 39,
   "metadata": {},
   "outputs": [],
   "source": [
    "#Replacing missing values of these features with zeros.\n",
    "#Because missing value means 0 value for these columns below\n",
    "\n",
    "df_list_ml['security_deposit'].fillna(0, inplace=True)\n",
    "df_list_ml['cleaning_fee'].fillna(0, inplace=True)"
   ]
  },
  {
   "cell_type": "code",
   "execution_count": 40,
   "metadata": {},
   "outputs": [
    {
     "data": {
      "text/plain": [
       "bathrooms                       float64\n",
       "bedrooms                        float64\n",
       "beds                            float64\n",
       "latitude                        float64\n",
       "longitude                       float64\n",
       "reviews_per_month               float64\n",
       "booking_ratio_90                float64\n",
       "accommodates                      int64\n",
       "guests_included                   int64\n",
       "\"24-Hour Check-in\"                int64\n",
       "\"Suitable for Events\"             int64\n",
       "\"Pets live on this property\"      int64\n",
       "\"Smoking Allowed\"                 int64\n",
       "\"Other pet(s)\"                    int64\n",
       "Essentials                        int64\n",
       "\"Wireless Internet\"               int64\n",
       "\"Buzzer/Wireless Intercom\"        int64\n",
       "TV                                int64\n",
       "Gym                               int64\n",
       "Washer                            int64\n",
       "Doorman                           int64\n",
       "Dryer                             int64\n",
       "\"Air Conditioning\"                int64\n",
       "\"Pets Allowed\"                    int64\n",
       "Dog(s)                            int64\n",
       "\"Hair Dryer\"                      int64\n",
       "\"Fire Extinguisher\"               int64\n",
       "Breakfast                         int64\n",
       "\"Washer / Dryer\"                  int64\n",
       "\"Laptop Friendly Workspace\"       int64\n",
       "\"Free Parking on Premises\"        int64\n",
       "\"Lock on Bedroom Door\"            int64\n",
       "Hangers                           int64\n",
       "\"Family/Kid Friendly\"             int64\n",
       "\"Carbon Monoxide Detector\"        int64\n",
       "\"Safety Card\"                     int64\n",
       "Kitchen                           int64\n",
       "\"Elevator in Building\"            int64\n",
       "Internet                          int64\n",
       "Shampoo                           int64\n",
       "\"Smoke Detector\"                  int64\n",
       "\"Paid Parking Off Premises\"       int64\n",
       "\"First Aid Kit\"                   int64\n",
       "\"Indoor Fireplace\"                int64\n",
       "\"Cable TV\"                        int64\n",
       "Heating                           int64\n",
       "neighbourhood_cleansed           object\n",
       "property_type                    object\n",
       "room_type                        object\n",
       "bed_type                         object\n",
       "price                            object\n",
       "security_deposit                 object\n",
       "cleaning_fee                     object\n",
       "extra_people                     object\n",
       "instant_bookable                 object\n",
       "cancellation_policy              object\n",
       "dtype: object"
      ]
     },
     "execution_count": 40,
     "metadata": {},
     "output_type": "execute_result"
    }
   ],
   "source": [
    "df_list_ml.dtypes"
   ]
  },
  {
   "cell_type": "code",
   "execution_count": 41,
   "metadata": {},
   "outputs": [],
   "source": [
    "#Removing $ signs and comma signs \n",
    "\n",
    "df_list_ml['price'] = df_list_ml['price'].str.replace('$', '')\n",
    "df_list_ml['security_deposit'] = df_list_ml['security_deposit'].str.replace('$', '')\n",
    "df_list_ml['cleaning_fee'] = df_list_ml['cleaning_fee'].str.replace('$', '')\n",
    "df_list_ml['extra_people'] = df_list_ml['extra_people'].str.replace('$', '')\n",
    "\n",
    "df_list_ml['price'] = df_list_ml['price'].str.replace(',', '')\n",
    "df_list_ml['security_deposit'] = df_list_ml['security_deposit'].str.replace(',', '')\n",
    "df_list_ml['cleaning_fee'] = df_list_ml['cleaning_fee'].str.replace(',', '')\n",
    "df_list_ml['extra_people'] = df_list_ml['extra_people'].str.replace(',', '')\n",
    "\n",
    "#Filling NaN values with 0 \n",
    "df_list_ml['security_deposit'].fillna(0, inplace=True)\n",
    "df_list_ml['cleaning_fee'].fillna(0, inplace=True)"
   ]
  },
  {
   "cell_type": "code",
   "execution_count": 42,
   "metadata": {},
   "outputs": [],
   "source": [
    "#Altering data types to float from string\n",
    "df_list_ml['price'] = df_list_ml['price'].astype(float)\n",
    "df_list_ml['security_deposit'] = df_list_ml['security_deposit'].astype(float)\n",
    "df_list_ml['cleaning_fee'] = df_list_ml['cleaning_fee'].astype(float)\n",
    "df_list_ml['extra_people'] = df_list_ml['extra_people'].astype(float)"
   ]
  },
  {
   "cell_type": "code",
   "execution_count": 43,
   "metadata": {},
   "outputs": [],
   "source": [
    "#Establishing a new dataframe as a subset of categorical columns from df_list_ml dataframe\n",
    "cat_cols = df_list_ml.select_dtypes(include=['object'])"
   ]
  },
  {
   "cell_type": "code",
   "execution_count": 44,
   "metadata": {},
   "outputs": [
    {
     "data": {
      "text/html": [
       "<div>\n",
       "<style scoped>\n",
       "    .dataframe tbody tr th:only-of-type {\n",
       "        vertical-align: middle;\n",
       "    }\n",
       "\n",
       "    .dataframe tbody tr th {\n",
       "        vertical-align: top;\n",
       "    }\n",
       "\n",
       "    .dataframe thead th {\n",
       "        text-align: right;\n",
       "    }\n",
       "</style>\n",
       "<table border=\"1\" class=\"dataframe\">\n",
       "  <thead>\n",
       "    <tr style=\"text-align: right;\">\n",
       "      <th></th>\n",
       "      <th>neighbourhood_cleansed</th>\n",
       "      <th>property_type</th>\n",
       "      <th>room_type</th>\n",
       "      <th>bed_type</th>\n",
       "      <th>instant_bookable</th>\n",
       "      <th>cancellation_policy</th>\n",
       "    </tr>\n",
       "  </thead>\n",
       "  <tbody>\n",
       "    <tr>\n",
       "      <th>0</th>\n",
       "      <td>Roslindale</td>\n",
       "      <td>House</td>\n",
       "      <td>Entire home/apt</td>\n",
       "      <td>Real Bed</td>\n",
       "      <td>f</td>\n",
       "      <td>moderate</td>\n",
       "    </tr>\n",
       "    <tr>\n",
       "      <th>1</th>\n",
       "      <td>Roslindale</td>\n",
       "      <td>Apartment</td>\n",
       "      <td>Private room</td>\n",
       "      <td>Real Bed</td>\n",
       "      <td>t</td>\n",
       "      <td>moderate</td>\n",
       "    </tr>\n",
       "    <tr>\n",
       "      <th>2</th>\n",
       "      <td>Roslindale</td>\n",
       "      <td>Apartment</td>\n",
       "      <td>Private room</td>\n",
       "      <td>Real Bed</td>\n",
       "      <td>f</td>\n",
       "      <td>moderate</td>\n",
       "    </tr>\n",
       "    <tr>\n",
       "      <th>3</th>\n",
       "      <td>Roslindale</td>\n",
       "      <td>House</td>\n",
       "      <td>Private room</td>\n",
       "      <td>Real Bed</td>\n",
       "      <td>f</td>\n",
       "      <td>moderate</td>\n",
       "    </tr>\n",
       "    <tr>\n",
       "      <th>4</th>\n",
       "      <td>Roslindale</td>\n",
       "      <td>House</td>\n",
       "      <td>Private room</td>\n",
       "      <td>Real Bed</td>\n",
       "      <td>f</td>\n",
       "      <td>flexible</td>\n",
       "    </tr>\n",
       "  </tbody>\n",
       "</table>\n",
       "</div>"
      ],
      "text/plain": [
       "  neighbourhood_cleansed property_type        room_type  bed_type  \\\n",
       "0             Roslindale         House  Entire home/apt  Real Bed   \n",
       "1             Roslindale     Apartment     Private room  Real Bed   \n",
       "2             Roslindale     Apartment     Private room  Real Bed   \n",
       "3             Roslindale         House     Private room  Real Bed   \n",
       "4             Roslindale         House     Private room  Real Bed   \n",
       "\n",
       "  instant_bookable cancellation_policy  \n",
       "0                f            moderate  \n",
       "1                t            moderate  \n",
       "2                f            moderate  \n",
       "3                f            moderate  \n",
       "4                f            flexible  "
      ]
     },
     "execution_count": 44,
     "metadata": {},
     "output_type": "execute_result"
    }
   ],
   "source": [
    "cat_cols.head()"
   ]
  },
  {
   "cell_type": "code",
   "execution_count": 45,
   "metadata": {},
   "outputs": [],
   "source": [
    "#Creating new columns from categorical variables to use these features in ML regression algorithm.\n",
    "for col in cat_cols:\n",
    "    try:\n",
    "        df_list_ml = pd.concat([df_list_ml.drop(col, axis=1), pd.get_dummies(df_list_ml[col], prefix=col, prefix_sep='_', drop_first=True)], axis=1)\n",
    "    except:\n",
    "        continue"
   ]
  },
  {
   "cell_type": "code",
   "execution_count": 46,
   "metadata": {},
   "outputs": [],
   "source": [
    "#Establishing the X (features) and y (the variable to be modelled) dataframes\n",
    "y = df_list_ml['price']\n",
    "X = df_list_ml.drop(columns='price')"
   ]
  },
  {
   "cell_type": "code",
   "execution_count": 47,
   "metadata": {},
   "outputs": [],
   "source": [
    "#Splitting the new dataframes into train and test dataframes\n",
    "X_train, X_test, y_train, y_test = train_test_split(X, y, test_size = 0.3, random_state=42)"
   ]
  },
  {
   "cell_type": "code",
   "execution_count": 48,
   "metadata": {},
   "outputs": [
    {
     "name": "stdout",
     "output_type": "stream",
     "text": [
      "0.28210797069347415\n",
      "0.45075261994946114\n"
     ]
    }
   ],
   "source": [
    "#Applying the linear regression, fitting the model, making predictions with the test set and scoring the success of the model\n",
    "lm_model = LinearRegression(normalize=True)\n",
    "lm_model.fit(X_train, y_train)\n",
    "y_test_preds = lm_model.predict(X_test)\n",
    "y_train_preds = lm_model.predict(X_train)\n",
    "\n",
    "test_score = r2_score(y_test, y_test_preds)\n",
    "train_score = r2_score(y_train, y_train_preds)\n",
    "\n",
    "print(test_score)\n",
    "print(train_score)\n",
    "\n",
    "\n",
    "\n"
   ]
  },
  {
   "cell_type": "code",
   "execution_count": 49,
   "metadata": {},
   "outputs": [],
   "source": [
    "#Below function is taken from one of the Udacity jupyter notebook examples. I used this code to see coefficients of my model. \n",
    "def coef_weights(coefficients, X_train):\n",
    "    '''\n",
    "    INPUT:\n",
    "    coefficients - the coefficients of the linear model \n",
    "    X_train - the training data, so the column names can be used\n",
    "    OUTPUT:\n",
    "    coefs_df - a dataframe holding the coefficient, estimate, and abs(estimate)\n",
    "    \n",
    "    Provides a dataframe that can be used to understand the most influential coefficients\n",
    "    in a linear model by providing the coefficient estimates along with the name of the \n",
    "    variable attached to the coefficient.\n",
    "    '''\n",
    "    coefs_df = pd.DataFrame()\n",
    "    coefs_df['est_int'] = X_train.columns\n",
    "    coefs_df['coefs'] = lm_model.coef_\n",
    "    coefs_df['abs_coefs'] = np.abs(lm_model.coef_)\n",
    "    coefs_df = coefs_df.sort_values('abs_coefs', ascending=False)\n",
    "    return coefs_df\n",
    "\n",
    "#Use the function\n",
    "coef_df = coef_weights(lm_model.coef_, X_train)"
   ]
  },
  {
   "cell_type": "code",
   "execution_count": 50,
   "metadata": {},
   "outputs": [
    {
     "data": {
      "text/html": [
       "<div>\n",
       "<style scoped>\n",
       "    .dataframe tbody tr th:only-of-type {\n",
       "        vertical-align: middle;\n",
       "    }\n",
       "\n",
       "    .dataframe tbody tr th {\n",
       "        vertical-align: top;\n",
       "    }\n",
       "\n",
       "    .dataframe thead th {\n",
       "        text-align: right;\n",
       "    }\n",
       "</style>\n",
       "<table border=\"1\" class=\"dataframe\">\n",
       "  <thead>\n",
       "    <tr style=\"text-align: right;\">\n",
       "      <th></th>\n",
       "      <th>est_int</th>\n",
       "      <th>coefs</th>\n",
       "      <th>abs_coefs</th>\n",
       "    </tr>\n",
       "  </thead>\n",
       "  <tbody>\n",
       "    <tr>\n",
       "      <th>4</th>\n",
       "      <td>longitude</td>\n",
       "      <td>507.996000</td>\n",
       "      <td>507.996000</td>\n",
       "    </tr>\n",
       "    <tr>\n",
       "      <th>3</th>\n",
       "      <td>latitude</td>\n",
       "      <td>339.494513</td>\n",
       "      <td>339.494513</td>\n",
       "    </tr>\n",
       "    <tr>\n",
       "      <th>28</th>\n",
       "      <td>\"Washer / Dryer\"</td>\n",
       "      <td>323.384487</td>\n",
       "      <td>323.384487</td>\n",
       "    </tr>\n",
       "    <tr>\n",
       "      <th>75</th>\n",
       "      <td>property_type_Camper/RV</td>\n",
       "      <td>-142.456839</td>\n",
       "      <td>142.456839</td>\n",
       "    </tr>\n",
       "    <tr>\n",
       "      <th>94</th>\n",
       "      <td>cancellation_policy_super_strict_30</td>\n",
       "      <td>80.974719</td>\n",
       "      <td>80.974719</td>\n",
       "    </tr>\n",
       "    <tr>\n",
       "      <th>69</th>\n",
       "      <td>neighbourhood_cleansed_South Boston Waterfront</td>\n",
       "      <td>80.175258</td>\n",
       "      <td>80.175258</td>\n",
       "    </tr>\n",
       "    <tr>\n",
       "      <th>50</th>\n",
       "      <td>neighbourhood_cleansed_Bay Village</td>\n",
       "      <td>67.535008</td>\n",
       "      <td>67.535008</td>\n",
       "    </tr>\n",
       "    <tr>\n",
       "      <th>86</th>\n",
       "      <td>room_type_Shared room</td>\n",
       "      <td>-65.329100</td>\n",
       "      <td>65.329100</td>\n",
       "    </tr>\n",
       "    <tr>\n",
       "      <th>49</th>\n",
       "      <td>neighbourhood_cleansed_Back Bay</td>\n",
       "      <td>64.031890</td>\n",
       "      <td>64.031890</td>\n",
       "    </tr>\n",
       "    <tr>\n",
       "      <th>57</th>\n",
       "      <td>neighbourhood_cleansed_East Boston</td>\n",
       "      <td>-59.791710</td>\n",
       "      <td>59.791710</td>\n",
       "    </tr>\n",
       "    <tr>\n",
       "      <th>51</th>\n",
       "      <td>neighbourhood_cleansed_Beacon Hill</td>\n",
       "      <td>56.872241</td>\n",
       "      <td>56.872241</td>\n",
       "    </tr>\n",
       "    <tr>\n",
       "      <th>20</th>\n",
       "      <td>Doorman</td>\n",
       "      <td>52.932824</td>\n",
       "      <td>52.932824</td>\n",
       "    </tr>\n",
       "    <tr>\n",
       "      <th>78</th>\n",
       "      <td>property_type_Entire Floor</td>\n",
       "      <td>-51.749638</td>\n",
       "      <td>51.749638</td>\n",
       "    </tr>\n",
       "    <tr>\n",
       "      <th>58</th>\n",
       "      <td>neighbourhood_cleansed_Fenway</td>\n",
       "      <td>49.598888</td>\n",
       "      <td>49.598888</td>\n",
       "    </tr>\n",
       "    <tr>\n",
       "      <th>13</th>\n",
       "      <td>\"Other pet(s)\"</td>\n",
       "      <td>-48.367632</td>\n",
       "      <td>48.367632</td>\n",
       "    </tr>\n",
       "    <tr>\n",
       "      <th>85</th>\n",
       "      <td>room_type_Private room</td>\n",
       "      <td>-47.105817</td>\n",
       "      <td>47.105817</td>\n",
       "    </tr>\n",
       "    <tr>\n",
       "      <th>55</th>\n",
       "      <td>neighbourhood_cleansed_Dorchester</td>\n",
       "      <td>-43.710878</td>\n",
       "      <td>43.710878</td>\n",
       "    </tr>\n",
       "    <tr>\n",
       "      <th>84</th>\n",
       "      <td>property_type_Villa</td>\n",
       "      <td>40.159851</td>\n",
       "      <td>40.159851</td>\n",
       "    </tr>\n",
       "    <tr>\n",
       "      <th>1</th>\n",
       "      <td>bedrooms</td>\n",
       "      <td>38.843747</td>\n",
       "      <td>38.843747</td>\n",
       "    </tr>\n",
       "    <tr>\n",
       "      <th>74</th>\n",
       "      <td>property_type_Boat</td>\n",
       "      <td>30.057866</td>\n",
       "      <td>30.057866</td>\n",
       "    </tr>\n",
       "  </tbody>\n",
       "</table>\n",
       "</div>"
      ],
      "text/plain": [
       "                                           est_int       coefs   abs_coefs\n",
       "4                                        longitude  507.996000  507.996000\n",
       "3                                         latitude  339.494513  339.494513\n",
       "28                                \"Washer / Dryer\"  323.384487  323.384487\n",
       "75                         property_type_Camper/RV -142.456839  142.456839\n",
       "94             cancellation_policy_super_strict_30   80.974719   80.974719\n",
       "69  neighbourhood_cleansed_South Boston Waterfront   80.175258   80.175258\n",
       "50              neighbourhood_cleansed_Bay Village   67.535008   67.535008\n",
       "86                           room_type_Shared room  -65.329100   65.329100\n",
       "49                 neighbourhood_cleansed_Back Bay   64.031890   64.031890\n",
       "57              neighbourhood_cleansed_East Boston  -59.791710   59.791710\n",
       "51              neighbourhood_cleansed_Beacon Hill   56.872241   56.872241\n",
       "20                                         Doorman   52.932824   52.932824\n",
       "78                      property_type_Entire Floor  -51.749638   51.749638\n",
       "58                   neighbourhood_cleansed_Fenway   49.598888   49.598888\n",
       "13                                  \"Other pet(s)\"  -48.367632   48.367632\n",
       "85                          room_type_Private room  -47.105817   47.105817\n",
       "55               neighbourhood_cleansed_Dorchester  -43.710878   43.710878\n",
       "84                             property_type_Villa   40.159851   40.159851\n",
       "1                                         bedrooms   38.843747   38.843747\n",
       "74                              property_type_Boat   30.057866   30.057866"
      ]
     },
     "execution_count": 50,
     "metadata": {},
     "output_type": "execute_result"
    }
   ],
   "source": [
    "coef_df.head(20)"
   ]
  },
  {
   "cell_type": "code",
   "execution_count": 51,
   "metadata": {},
   "outputs": [],
   "source": [
    "def find_optimal_number_of_selectors(X, y, k_samples, plot=True, legend=True):\n",
    "    '''\n",
    "    INPUT:\n",
    "    X dataframe that contains the features.\n",
    "    y dataframe that contains the variable to be predicted.\n",
    "    k_samples is a list of k values that will be tested.\n",
    "    \n",
    "    OUTPUT:\n",
    "    A dictionary that contains values of tested k-values as keys and r-squared values for each key.\n",
    "    The k-value that has the highest r-squared.\n",
    "\n",
    "    '''   \n",
    "    result_r_squareds = []\n",
    "    results = {}\n",
    "    for kes in k_samples:\n",
    "        selector = SelectKBest(score_func=f_regression, k=kes)\n",
    "        selector.fit_transform(X, y)\n",
    "        selected_cols = selector.get_support(indices=True)\n",
    "        features_new_X = X.iloc[:,selected_cols]\n",
    "        \n",
    "        X_train, X_test, y_train, y_test = train_test_split(features_new_X, y, test_size = 0.3, random_state=42)\n",
    "        lm_model = LinearRegression(normalize=True)\n",
    "        lm_model.fit(X_train, y_train)\n",
    "        y_test_preds = lm_model.predict(X_test)\n",
    "        result_r_squareds.append(r2_score(y_test, y_test_preds))\n",
    "        results[str(kes)] = r2_score(y_test, y_test_preds)\n",
    "    \n",
    "    if plot:\n",
    "        plt.plot(k_samples, result_r_squareds, label=\"r-squared\", alpha=0.7)\n",
    "        plt.xlabel(\"Different k_values\")\n",
    "        plt.ylabel(\"R_Squared_Values\")\n",
    "        plt.legend(loc=1)\n",
    "        plt.show()\n",
    "    \n",
    "    best_k = max(results, key=results.get)\n",
    "    \n",
    "    return results, best_k"
   ]
  },
  {
   "cell_type": "code",
   "execution_count": 52,
   "metadata": {},
   "outputs": [
    {
     "data": {
      "image/png": "[encoded data removed]",
      "text/plain": [
       "<Figure size 432x288 with 1 Axes>"
      ]
     },
     "metadata": {
      "needs_background": "light"
     },
     "output_type": "display_data"
    },
    {
     "name": "stdout",
     "output_type": "stream",
     "text": [
      "{'10': 0.24352182852167525, '11': 0.24759540808542257, '12': 0.24789003295648915, '13': 0.2563451162861311, '14': 0.2563399708197399, '15': 0.2525737080358369, '16': 0.25385487219663283, '17': 0.25588444496224383, '18': 0.2564935286012261, '19': 0.260007634033495, '20': 0.2618467100960644, '21': 0.26242914511268467, '22': 0.26100311265546405, '23': 0.2615417728469468, '24': 0.26189023200299244, '25': 0.2626663494074758, '26': 0.26172309950857464, '27': 0.26472016713094515, '28': 0.26903115313032566, '29': 0.2690832742061926, '30': 0.27097221678550953, '31': 0.2717863929335377, '32': 0.2716620369169499, '33': 0.27371536075805325, '34': 0.2794647430051278, '35': 0.27940708834466443, '36': 0.27796325035109914, '37': 0.2778225349989055, '38': 0.2800790227256127, '39': 0.27962275301843, '40': 0.2814627013165768, '41': 0.2813307716553016, '42': 0.286016536481589, '43': 0.28590199015258555, '44': 0.28231596284702287, '45': 0.2818889863613431, '46': 0.2817941660821931, '47': 0.28666979694102357, '48': 0.2869316253497941, '49': 0.2867457486726921, '50': 0.2867841573918577, '51': 0.2862999569205721, '52': 0.28653474584676775, '53': 0.2868529367527176, '54': 0.2868936605094212, '55': 0.2867915107251021, '56': 0.28674372132631865, '57': 0.2881375735275944, '58': 0.2882596483498281, '59': 0.28830432682936546, '60': 0.2875160414646124, '61': 0.2867387782822014, '62': 0.2864477909207914, '63': 0.28317078143289953, '64': 0.28339606381181637, '65': 0.2835381003470757, '66': 0.28365173885212025, '67': 0.2834494753017337, '68': 0.2832822592561921, '69': 0.28330619985299577, '70': 0.28378662114227493, '71': 0.28377565364157487, '72': 0.2836764551956579, '73': 0.2834598254411723, '74': 0.2836602485348846, '75': 0.2832212675870097, '76': 0.28330247698932176, '77': 0.28228140079426245, '78': 0.281926914982086, '79': 0.28192198991136797, '80': 0.2816886278611376, '81': 0.28174373512502404, '82': 0.2817929443705255, '83': 0.28179294437052227, '84': 0.28207606966501564, '85': 0.2820760696650173, '86': 0.28205390309942546, '87': 0.2820299067378159, '88': 0.28202858354347293, '89': 0.28209289761278566, '90': 0.282292684083272, '91': 0.2820313948942753, '92': 0.2823343463156681, '93': 0.2824177968999039, '94': 0.2823895190490001}\n",
      "59\n",
      "0.28830432682936546\n"
     ]
    }
   ],
   "source": [
    "#Testing a range of k values from 10 to 94 (which is the number of all features) to find the number of features generate the highest r-squared value.\n",
    "k_samples = range(10, len(X.columns))\n",
    "k_results, best_k = find_optimal_number_of_selectors(X, y, k_samples)\n",
    "print(k_results)\n",
    "print(best_k)\n",
    "print(k_results[best_k])"
   ]
  },
  {
   "cell_type": "code",
   "execution_count": null,
   "metadata": {},
   "outputs": [],
   "source": []
  }
 ],
 "metadata": {
  "kernelspec": {
   "display_name": "Python 3",
   "language": "python",
   "name": "python3"
  },
  "language_info": {
   "codemirror_mode": {
    "name": "ipython",
    "version": 3
   },
   "file_extension": ".py",
   "mimetype": "text/x-python",
   "name": "python",
   "nbconvert_exporter": "python",
   "pygments_lexer": "ipython3",
   "version": "3.8.3"
  }
 },
 "nbformat": 4,
 "nbformat_minor": 4
}
